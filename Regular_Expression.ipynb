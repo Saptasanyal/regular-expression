{
  "cells": [
    {
      "cell_type": "markdown",
      "metadata": {
        "id": "4D31139jtVxT"
      },
      "source": [
        "A regular expression is a special sequence of characters that uses a search pattern to find a string or a set of strings.\n",
        "\n",
        "It can also detect the presence or absence of a text by matching it with a particular pattern, and also can split a pattern into one or more sub pattern."
      ]
    },
    {
      "cell_type": "markdown",
      "metadata": {
        "id": "G5k9dBgzuC5z"
      },
      "source": [
        "***MetaCharacters in Regex***\n",
        "\n",
        "**\\** : Used to drop the special meaning of characters following it\n",
        "\n",
        "**.** : Matches any characters except newline"
      ]
    },
    {
      "cell_type": "code",
      "execution_count": null,
      "metadata": {
        "id": "0Wyfh3tTtSfw"
      },
      "outputs": [],
      "source": [
        "import re"
      ]
    },
    {
      "cell_type": "code",
      "execution_count": null,
      "metadata": {
        "id": "A11W__skum9g"
      },
      "outputs": [],
      "source": [
        "a=\"The Indian Space Research Organisation (ISRO[2] /ˈɪsroʊ/)[a] is the national space agency of India. It operates as the primary research and development arm of the Department of Space (DoS), which is directly overseen by the Prime Minister of India while the Chairman of ISRO also acts as the executive of DoS. ISRO is primarily responsible for performing tasks related to space-based operations, space exploration, international space cooperation and the development of related technologies.[3] ISRO is one of the six government space agencies in the world that possesses full launch capabilities, can deploy cryogenic engines, can launch extraterrestrial missions and operate a large fleet of artificial satellites.[4][5][b] ISRO is one of the four government space agencies to have soft landing (uncrewed) capabilities.[6][c]\""
      ]
    },
    {
      "cell_type": "code",
      "execution_count": null,
      "metadata": {
        "colab": {
          "base_uri": "https://localhost:8080/"
        },
        "id": "Nj6WPOHOC-fp",
        "outputId": "0a9a0c2f-e008-4c64-9c97-865e0857319f"
      },
      "outputs": [
        {
          "name": "stdout",
          "output_type": "stream",
          "text": [
            "The Indian Space Research Organisation (ISRO[2] /ˈɪsroʊ/)[a] is the national space agency of India. It operates as the primary research and development arm of the Department of Space (DoS), which is directly overseen by the Prime Minister of India while the Chairman of ISRO also acts as the executive of DoS. ISRO is primarily responsible for performing tasks related to space-based operations, space exploration, international space cooperation and the development of related technologies.[3] ISRO is one of the six government space agencies in the world that possesses full launch capabilities, can deploy cryogenic engines, can launch extraterrestrial missions and operate a large fleet of artificial satellites.[4][5][b] ISRO is one of the four government space agencies to have soft landing (uncrewed) capabilities.[6][c]\n"
          ]
        }
      ],
      "source": [
        "print(a)"
      ]
    },
    {
      "cell_type": "code",
      "execution_count": null,
      "metadata": {
        "colab": {
          "base_uri": "https://localhost:8080/"
        },
        "id": "RCrAfAgju1Vs",
        "outputId": "6c363de8-c0d8-4620-f5fc-34560c210814"
      },
      "outputs": [
        {
          "name": "stdout",
          "output_type": "stream",
          "text": [
            "['sas t', 'saaat', 'seeet', 'sweat']\n",
            "['t s', 't s', 't s', 't s', 't s', 't s']\n",
            "['at s', 'at s', 'at s']\n",
            "['sa', 't ', 'si', 't ', 'st', 'e ', 'st', 't ', 'sa', 's ', 'th', 'e ', 'sa', 'aa', 't ', 'se', 'ee', 't ', 'sw', 'ea', 't ', 'su', 'ga']\n"
          ]
        }
      ],
      "source": [
        "e=\"sat sit ste stt sas the saaat seeet sweat sugar\"\n",
        "b=re.findall(r\"s...t\",e)\n",
        "print(b)\n",
        "b1=re.findall(r\"t.s\",e)\n",
        "print(b1)\n",
        "b2=re.findall(r\"at.s\",e)\n",
        "print(b2)\n",
        "b12=re.findall(r\"..\",e)\n",
        "print(b12)"
      ]
    },
    {
      "cell_type": "code",
      "execution_count": null,
      "metadata": {
        "colab": {
          "base_uri": "https://localhost:8080/"
        },
        "id": "WucdRPjeweY4",
        "outputId": "62d8b7b3-7f39-400f-fa2e-6ce556a45b47"
      },
      "outputs": [
        {
          "name": "stdout",
          "output_type": "stream",
          "text": [
            "['a', 'b', 'c', '.', 'x', 'y', 'z', '@', 'g', 'm', 'a', 'i', 'l', '.', 'c', 'o', 'm']\n",
            "['.', '.']\n",
            "<re.Match object; span=(3, 4), match='.'>\n"
          ]
        }
      ],
      "source": [
        "c=\"abc.xyz@gmail.com\"\n",
        "b1=re.findall(r'.',c)\n",
        "print(b1)\n",
        "b=re.findall(r\"\\.\",c)\n",
        "print(b)\n",
        "b2=re.search(r\"\\.\",c)\n",
        "print(b2)"
      ]
    },
    {
      "cell_type": "markdown",
      "metadata": {
        "id": "so8zUi1nx7E0"
      },
      "source": [
        "**[]**  : Represents a character class"
      ]
    },
    {
      "cell_type": "code",
      "execution_count": null,
      "metadata": {
        "colab": {
          "base_uri": "https://localhost:8080/"
        },
        "id": "BsfhWsGsw-9y",
        "outputId": "67aea261-a4a3-45da-e029-3d62548bfd32"
      },
      "outputs": [
        {
          "name": "stdout",
          "output_type": "stream",
          "text": [
            "<re.Match object; span=(7, 8), match='@'>\n",
            "['a', 'a']\n"
          ]
        }
      ],
      "source": [
        "c=\"abc.xyz@gmail.com\"\n",
        "b=re.search(r\"[@]\",c)\n",
        "print(b)\n",
        "b1=re.findall(r\"[a]\",c)\n",
        "print(b1)"
      ]
    },
    {
      "cell_type": "markdown",
      "metadata": {
        "id": "jrZoIm3Jyx1h"
      },
      "source": [
        "**^**  : Matching the begining"
      ]
    },
    {
      "cell_type": "code",
      "execution_count": null,
      "metadata": {
        "colab": {
          "base_uri": "https://localhost:8080/"
        },
        "id": "UgOcCpueyTHD",
        "outputId": "d1e1d617-dc87-4792-80c9-3e9079edc424"
      },
      "outputs": [
        {
          "name": "stdout",
          "output_type": "stream",
          "text": [
            "None\n",
            "[]\n",
            "<re.Match object; span=(0, 1), match='w'>\n",
            "['w']\n"
          ]
        }
      ],
      "source": [
        "e=\"world how are you. I am fine. What about you\"\n",
        "b=re.search(r\"^Hello\",e)\n",
        "print(b)\n",
        "b1=re.findall(r\"^Hello\",e)\n",
        "print(b1)\n",
        "b12=re.search(r\"^w\",e)\n",
        "print(b12)\n",
        "b13=re.findall(r\"^w\",e)\n",
        "print(b13)\n"
      ]
    },
    {
      "cell_type": "markdown",
      "metadata": {
        "id": "DVDur9V4zg-t"
      },
      "source": [
        "**$**  : Matches the end"
      ]
    },
    {
      "cell_type": "code",
      "execution_count": null,
      "metadata": {
        "colab": {
          "base_uri": "https://localhost:8080/"
        },
        "id": "YYew1b_AzIrr",
        "outputId": "a091e421-1efd-44ed-ebf9-7f5d410b7bff"
      },
      "outputs": [
        {
          "name": "stdout",
          "output_type": "stream",
          "text": [
            "None\n",
            "[]\n"
          ]
        }
      ],
      "source": [
        "c=\"Hello World\"\n",
        "b1=re.search(r\"Wor$\",c)\n",
        "print(b1)\n",
        "b=re.findall(r\"Wor$\",c)\n",
        "print(b)"
      ]
    },
    {
      "cell_type": "code",
      "execution_count": null,
      "metadata": {
        "colab": {
          "base_uri": "https://localhost:8080/"
        },
        "id": "OU6XM3PVPULT",
        "outputId": "cafd6241-462d-4361-e0bd-37cf4d341cd0"
      },
      "outputs": [
        {
          "name": "stdout",
          "output_type": "stream",
          "text": [
            "45\n",
            "odd\n"
          ]
        }
      ],
      "source": [
        "a=int(input())\n",
        "\n",
        "if a%2==0:\n",
        "  print(\"even\")\n",
        "else:\n",
        "  print(\"odd\")"
      ]
    },
    {
      "cell_type": "code",
      "execution_count": null,
      "metadata": {
        "colab": {
          "base_uri": "https://localhost:8080/"
        },
        "id": "4Emj73KWRJxI",
        "outputId": "577ca12e-69bd-4441-f7be-6057794ed8bc"
      },
      "outputs": [
        {
          "name": "stdout",
          "output_type": "stream",
          "text": [
            "45\n",
            "0\n"
          ]
        }
      ],
      "source": [
        "a=int(input())\n",
        "if a%3==0:\n",
        "  print(\"0\")\n",
        "elif a%3==1:\n",
        "  print(\"1\")\n",
        "else:\n",
        "  print(\"2\")"
      ]
    },
    {
      "cell_type": "code",
      "execution_count": null,
      "metadata": {
        "colab": {
          "base_uri": "https://localhost:8080/"
        },
        "id": "uC9JVyhGS542",
        "outputId": "76cc1c50-34ce-47cc-cd04-e5fd7d0597ab"
      },
      "outputs": [
        {
          "name": "stdout",
          "output_type": "stream",
          "text": [
            "9\n"
          ]
        }
      ],
      "source": [
        "import random\n",
        "a=random.randint(1,12)\n",
        "print(a)\n",
        "#b=random.choice(['a','b','c'])\n",
        "#print(b)"
      ]
    },
    {
      "cell_type": "code",
      "execution_count": null,
      "metadata": {
        "colab": {
          "base_uri": "https://localhost:8080/"
        },
        "id": "jJnwTGmHUOcm",
        "outputId": "3ea26e2d-e949-4d88-a6c2-3f41673e60d5"
      },
      "outputs": [
        {
          "name": "stdout",
          "output_type": "stream",
          "text": [
            "rock\n"
          ]
        }
      ],
      "source": [
        "b=random.choice(['rock','paper','scissor'])\n",
        "print(b)"
      ]
    },
    {
      "cell_type": "code",
      "execution_count": null,
      "metadata": {
        "id": "LhsEeYXqZZ0F"
      },
      "outputs": [],
      "source": [
        "import random\n",
        "\n"
      ]
    },
    {
      "cell_type": "code",
      "execution_count": null,
      "metadata": {
        "colab": {
          "base_uri": "https://localhost:8080/"
        },
        "id": "HKrANcyvZmJL",
        "outputId": "eafbcf32-214d-4746-9c26-c2fce723ba51"
      },
      "outputs": [
        {
          "name": "stdout",
          "output_type": "stream",
          "text": [
            "ugufg\n",
            "paper\n",
            "invalid input\n"
          ]
        }
      ],
      "source": [
        "a=input()\n",
        "b=random.choice([\"rock\", \"paper\",\"scissor\"])\n",
        "print(b)\n",
        "if a==\"rock\":\n",
        "  if b=='rock':\n",
        "    print(\"draw\")\n",
        "  elif b==\"paper\":\n",
        "    print(\"conp wins\")\n",
        "  else:\n",
        "    print(\"you win\")\n",
        "elif a==\"paper\":\n",
        "  if b=='rock':\n",
        "    print(\"you win\")\n",
        "  elif b==\"paper\":\n",
        "    print(\"draw\")\n",
        "  else:\n",
        "    print(\"comp win\")\n",
        "elif a=='scissor':\n",
        "  if b=='rock':\n",
        "    print(\"comp win\")\n",
        "  elif b==\"paper\":\n",
        "    print(\"you win\")\n",
        "  else:\n",
        "    print(\"draw\")\n",
        "else:\n",
        "  print(\"invalid input\")"
      ]
    },
    {
      "cell_type": "code",
      "execution_count": null,
      "metadata": {
        "colab": {
          "base_uri": "https://localhost:8080/"
        },
        "id": "4uf-7za5c9Fi",
        "outputId": "a69acc7e-4ea4-472d-8c57-27526decf0e6"
      },
      "outputs": [
        {
          "name": "stdout",
          "output_type": "stream",
          "text": [
            "['', '', '', '', 'aaa', '', 'a', '', 'aa', '', 'a', '', 'aaaa', '', '', 'aa', '', 'a', '']\n"
          ]
        }
      ],
      "source": [
        "a=\"the aaa a aata aaaat aaba\"\n",
        "b=re.findall(r\"a*\",a)\n",
        "print(b)"
      ]
    },
    {
      "cell_type": "markdown",
      "metadata": {
        "id": "coqZl_7L3cHx"
      },
      "source": [
        "**|**  : Or"
      ]
    },
    {
      "cell_type": "code",
      "execution_count": null,
      "metadata": {
        "colab": {
          "base_uri": "https://localhost:8080/"
        },
        "id": "8vdYyUKvzv-f",
        "outputId": "fbb8be9a-1699-46ae-90cd-903144bf2226"
      },
      "outputs": [
        {
          "name": "stdout",
          "output_type": "stream",
          "text": [
            "['sat', 'tea ', 'sat', 'sat', 'teee', 'teea']\n"
          ]
        }
      ],
      "source": [
        "a=\"sat tea sit sata saat sataa teee teea\"\n",
        "b=re.findall(r\"sat|te..\",a)\n",
        "print(b)\n",
        "\n"
      ]
    },
    {
      "cell_type": "markdown",
      "metadata": {
        "id": "x0RNZTxZ4gju"
      },
      "source": [
        "**?**  : Matches zero or 1 occurence"
      ]
    },
    {
      "cell_type": "code",
      "execution_count": null,
      "metadata": {
        "colab": {
          "base_uri": "https://localhost:8080/"
        },
        "id": "HWNzHAhc36cb",
        "outputId": "9ebf0053-d14a-4d38-8bf6-b6cf0e93ba35"
      },
      "outputs": [
        {
          "output_type": "stream",
          "name": "stdout",
          "text": [
            "['bc', 'bc', 'c', 'c', 'c', 'c', 'c', 'c', 'c', 'c', 'c', 'c', 'c']\n"
          ]
        }
      ],
      "source": [
        "d=\"abc abccc acccc ab ababacbacccc\"\n",
        "b1=re.findall(r\"b?c\",d)\n",
        "print(b1)\n",
        "#b=re.findall(r\"abc?\",d)\n",
        "#print(b)"
      ]
    },
    {
      "cell_type": "code",
      "source": [
        "a=\"80%\"\n",
        "m=a.replace(\"%\",\" \")\n",
        "print(m)"
      ],
      "metadata": {
        "colab": {
          "base_uri": "https://localhost:8080/"
        },
        "id": "XDtnMlSD4_J4",
        "outputId": "80c0cb92-424d-499d-ba0f-7820b3bceeed"
      },
      "execution_count": null,
      "outputs": [
        {
          "output_type": "stream",
          "name": "stdout",
          "text": [
            "80 \n"
          ]
        }
      ]
    },
    {
      "cell_type": "markdown",
      "metadata": {
        "id": "z3YI9kM56dRV"
      },
      "source": [
        "*  :  Any number of occurences( including 0)"
      ]
    },
    {
      "cell_type": "code",
      "execution_count": null,
      "metadata": {
        "colab": {
          "base_uri": "https://localhost:8080/"
        },
        "id": "F6gK0mRc5CbN",
        "outputId": "9f10572b-23a0-42bc-b55b-9994a863b7b0"
      },
      "outputs": [
        {
          "output_type": "stream",
          "name": "stdout",
          "text": [
            "['bc', 'bc', 'c', 'c', 'bc', 'c', 'c', 'c', 'c', 'c', 'c', 'c', 'c', 'c']\n",
            "['abc', '', 'abccc', '', 'abccccc', '', 'ab', '', 'ab', 'ab', 'ac', 'b', 'acccc', '']\n"
          ]
        }
      ],
      "source": [
        "d=\"abc abccc abccccc ab ababacbacccc\"\n",
        "b1=re.findall(r\"b*c\",d)\n",
        "print(b1)\n",
        "b=re.findall(r\"a*b*c*\",d)\n",
        "print(b)"
      ]
    },
    {
      "cell_type": "markdown",
      "metadata": {
        "id": "y_JY4K-D7BdD"
      },
      "source": [
        "(+)  :  One or more occurence"
      ]
    },
    {
      "cell_type": "code",
      "execution_count": null,
      "metadata": {
        "colab": {
          "base_uri": "https://localhost:8080/"
        },
        "id": "D6BRLyAf62jH",
        "outputId": "450d6ee4-a1ca-4e18-cdc5-0d538782413e"
      },
      "outputs": [
        {
          "output_type": "stream",
          "name": "stdout",
          "text": [
            "['bc', 'bc', 'bc']\n",
            "['abc', 'abccc', 'abccccc']\n"
          ]
        }
      ],
      "source": [
        "d=\"abc abccc abccccc ab ababacbacccc\"\n",
        "b1=re.findall(r\"b+c\",d)\n",
        "print(b1)\n",
        "b=re.findall(r\"abc+\",d)\n",
        "print(b)"
      ]
    },
    {
      "cell_type": "markdown",
      "metadata": {
        "id": "HX2iCNGU7eEv"
      },
      "source": [
        "{}  : indicate the number of occurences of a preceding regex to match"
      ]
    },
    {
      "cell_type": "code",
      "execution_count": null,
      "metadata": {
        "colab": {
          "base_uri": "https://localhost:8080/"
        },
        "id": "F4wlJWPp7XFH",
        "outputId": "d55e96d4-889e-4693-d2fe-a9ae14525368"
      },
      "outputs": [
        {
          "output_type": "stream",
          "name": "stdout",
          "text": [
            "['ccc', 'cccc', 'cccc']\n",
            "['abccc', 'abcccc']\n"
          ]
        }
      ],
      "source": [
        "d=\"abc abccc abccccc ab ababacbacccc\"\n",
        "b1=re.findall(r\"c{2,4}\",d)\n",
        "print(b1)\n",
        "b=re.findall(r\"a+b+c{2,4}\",d)\n",
        "print(b)"
      ]
    },
    {
      "cell_type": "markdown",
      "metadata": {
        "id": "JqBoZyby8BDs"
      },
      "source": [
        "() : Enclose a group of Regex"
      ]
    },
    {
      "cell_type": "code",
      "execution_count": null,
      "metadata": {
        "colab": {
          "base_uri": "https://localhost:8080/"
        },
        "id": "ZxJsXI8H76nG",
        "outputId": "5aff3638-4b73-4f9e-e353-c016645bbc23"
      },
      "outputs": [
        {
          "name": "stdout",
          "output_type": "stream",
          "text": [
            "['b', 'b', 'b', 'a', 'a']\n"
          ]
        }
      ],
      "source": [
        "d=\"abc abccc abccccc ab ababacbacccc\"\n",
        "b=re.findall(r\"(a|b)c\",d)\n",
        "print(b)"
      ]
    },
    {
      "cell_type": "markdown",
      "metadata": {
        "id": "y7yGpiAteMaB"
      },
      "source": [
        "**Special sequences in regex**\n",
        "\n",
        "special sequences do not match for the actual character in  the string instead it tells the specific location in the search string where the match must occur.\n",
        "\n",
        "It makes it easier to write commonly used patterns"
      ]
    },
    {
      "cell_type": "code",
      "execution_count": null,
      "metadata": {
        "id": "wBc3VUtk8uDr"
      },
      "outputs": [],
      "source": [
        "import re"
      ]
    },
    {
      "cell_type": "markdown",
      "metadata": {
        "id": "FP-oae61fR6u"
      },
      "source": [
        "\\A Returns a match if the specified characters are at the beginning of the string"
      ]
    },
    {
      "cell_type": "code",
      "execution_count": null,
      "metadata": {
        "colab": {
          "base_uri": "https://localhost:8080/"
        },
        "id": "th6p9kdqfMFM",
        "outputId": "19d67736-dafb-4e51-fe01-53cb57eeba2a"
      },
      "outputs": [
        {
          "output_type": "stream",
          "name": "stdout",
          "text": [
            "['Har']\n",
            "[]\n"
          ]
        }
      ],
      "source": [
        "a=\"Harry Potter\"\n",
        "b=re.findall(r\"\\AHar\",a)\n",
        "print(b)\n",
        "b1=re.findall(r\"\\APot\",a)\n",
        "print(b1)"
      ]
    },
    {
      "cell_type": "markdown",
      "metadata": {
        "id": "mEB2mFYGgZAV"
      },
      "source": [
        "\\b  : Returns a match where the specified characters are at the beginning or at the end of a word"
      ]
    },
    {
      "cell_type": "code",
      "execution_count": null,
      "metadata": {
        "colab": {
          "base_uri": "https://localhost:8080/"
        },
        "id": "tZa3S5lLfNCz",
        "outputId": "68cd8cd5-2a90-4de0-8f7a-6917b7bde723"
      },
      "outputs": [
        {
          "output_type": "stream",
          "name": "stdout",
          "text": [
            "['Har']\n",
            "['Pot']\n"
          ]
        }
      ],
      "source": [
        "a=\"Harry Potter\"\n",
        "b=re.findall(r\"\\bHar\",a)\n",
        "print(b)\n",
        "b1=re.findall(r\"\\bPot\",a)\n",
        "print(b1)"
      ]
    },
    {
      "cell_type": "code",
      "execution_count": null,
      "metadata": {
        "colab": {
          "base_uri": "https://localhost:8080/"
        },
        "id": "VOba5-NDgtzF",
        "outputId": "1bcec671-b45d-4c4b-84d7-f9ad1496f3ea"
      },
      "outputs": [
        {
          "output_type": "stream",
          "name": "stdout",
          "text": [
            "[]\n",
            "['er']\n"
          ]
        }
      ],
      "source": [
        "a=\"Harry Potter\"\n",
        "b=re.findall(r\"Har\\b\",a)\n",
        "print(b)\n",
        "b1=re.findall(r\"er\\b\",a)\n",
        "print(b1)"
      ]
    },
    {
      "cell_type": "markdown",
      "metadata": {
        "id": "l3f71Sp0hZPN"
      },
      "source": [
        "\\B : Returns a match where the specified characters are present, but NOT at the beginning (or at the end) of a word"
      ]
    },
    {
      "cell_type": "code",
      "execution_count": null,
      "metadata": {
        "colab": {
          "base_uri": "https://localhost:8080/"
        },
        "id": "GSat2ilQhHvb",
        "outputId": "48bf98a4-8360-4d02-d8b7-db6f603637d1"
      },
      "outputs": [
        {
          "output_type": "stream",
          "name": "stdout",
          "text": [
            "['Har']\n",
            "['tt']\n"
          ]
        }
      ],
      "source": [
        "a=\"Harry Potter\"\n",
        "b=re.findall(r\"Har\\B\",a)\n",
        "print(b)\n",
        "b1=re.findall(r\"tt\\B\",a)\n",
        "print(b1)"
      ]
    },
    {
      "cell_type": "code",
      "execution_count": null,
      "metadata": {
        "colab": {
          "base_uri": "https://localhost:8080/"
        },
        "id": "GntGmAKkhmlr",
        "outputId": "1ae414ce-8bf1-4b92-c557-a1fc871c2732"
      },
      "outputs": [
        {
          "output_type": "stream",
          "name": "stdout",
          "text": [
            "[]\n",
            "['tt']\n"
          ]
        }
      ],
      "source": [
        "a=\"Harry Potter\"\n",
        "b=re.findall(r\"\\BHar\",a)\n",
        "print(b)\n",
        "b1=re.findall(r\"\\Btt\",a)\n",
        "print(b1)"
      ]
    },
    {
      "cell_type": "markdown",
      "metadata": {
        "id": "nOXgMzEyiknC"
      },
      "source": [
        "\\d : Returns a match where the string contains digits (numbers from 0-9)"
      ]
    },
    {
      "cell_type": "code",
      "execution_count": null,
      "metadata": {
        "colab": {
          "base_uri": "https://localhost:8080/"
        },
        "id": "vYFK_1OTiem_",
        "outputId": "6199ad19-d4eb-416c-805c-1abd82461df6"
      },
      "outputs": [
        {
          "output_type": "stream",
          "name": "stdout",
          "text": [
            "['9', '1', '2', '4', '5', '6', '7']\n",
            "['91']\n",
            "['1', '2']\n"
          ]
        }
      ],
      "source": [
        "a=\"Harry9124 Potter567\"\n",
        "b=re.findall(r\"\\d\",a)\n",
        "print(b)\n",
        "b1=re.findall(r\"\\d[1-3]\",a)\n",
        "print(b1)\n",
        "b2=re.findall(r\"[1-3]\",a)\n",
        "print(b2)"
      ]
    },
    {
      "cell_type": "markdown",
      "metadata": {
        "id": "SbDty3wNjoAB"
      },
      "source": [
        "\\D :  Returns a match where the string DOES NOT contain digits"
      ]
    },
    {
      "cell_type": "code",
      "execution_count": null,
      "metadata": {
        "colab": {
          "base_uri": "https://localhost:8080/"
        },
        "id": "lbNK2aVajnrT",
        "outputId": "ae375f54-74aa-4344-8433-12b4e09a89c7"
      },
      "outputs": [
        {
          "output_type": "stream",
          "name": "stdout",
          "text": [
            "['1', '1', '2', '4', '5', '6', '7']\n",
            "['H', 'a', 'r', 'r', 'y', '@', '#', ' ', 'P', 'o', 't', 't', 'e', 'r']\n"
          ]
        }
      ],
      "source": [
        "a=\"Harry1124@# Potter567\"\n",
        "b=re.findall(r\"\\d\",a)\n",
        "print(b)\n",
        "b1=re.findall(r\"\\D\",a)\n",
        "print(b1)"
      ]
    },
    {
      "cell_type": "markdown",
      "metadata": {
        "id": "dYey5VYckD7q"
      },
      "source": [
        "\\s : Returns a match where the string contains a white space character"
      ]
    },
    {
      "cell_type": "code",
      "execution_count": null,
      "metadata": {
        "colab": {
          "base_uri": "https://localhost:8080/"
        },
        "id": "Lr_G3sH4iyjc",
        "outputId": "4931098a-2bb5-434d-e8ec-341281b247ae"
      },
      "outputs": [
        {
          "output_type": "stream",
          "name": "stdout",
          "text": [
            "[' ', ' ']\n",
            "['H', 'a', 'r', 'r', 'y', '@', '#', ' ', ' ', 'P', 'o', 't', 't', 'e', 'r']\n"
          ]
        }
      ],
      "source": [
        "a=\"Harry1124@#  Potter567\"\n",
        "b=re.findall(r\"\\s\",a)\n",
        "print(b)\n",
        "b1=re.findall(r\"\\D\",a)\n",
        "print(b1)"
      ]
    },
    {
      "cell_type": "markdown",
      "metadata": {
        "id": "nnwhK3ocka8B"
      },
      "source": [
        "\\S  : Returns a match where the string DOES NOT contain a white space character"
      ]
    },
    {
      "cell_type": "code",
      "execution_count": null,
      "metadata": {
        "colab": {
          "base_uri": "https://localhost:8080/"
        },
        "id": "fQUqUZIfkQw6",
        "outputId": "9191fa7b-da36-4af6-c6ce-958b63c21ba6"
      },
      "outputs": [
        {
          "output_type": "stream",
          "name": "stdout",
          "text": [
            "['H', 'a', 'r', 'r', 'y', '1', '1', '2', '4', '@', '#', 'P', 'o', 't', 't', 'e', 'r', '5', '6', '7']\n"
          ]
        }
      ],
      "source": [
        "a=\"Harry1124@#    Potter567\"\n",
        "b=re.findall(r\"\\S\",a)\n",
        "print(b)"
      ]
    },
    {
      "cell_type": "markdown",
      "metadata": {
        "id": "OKFRsCiwkyCe"
      },
      "source": [
        "\\w:  Returns a match where the string contains any word characters (characters from a to Z, digits from 0-9, and the underscore _ character)"
      ]
    },
    {
      "cell_type": "code",
      "execution_count": null,
      "metadata": {
        "colab": {
          "base_uri": "https://localhost:8080/"
        },
        "id": "ul28h-ADkl1R",
        "outputId": "a41a26c9-13e5-4279-ee43-d2bffd10c05c"
      },
      "outputs": [
        {
          "output_type": "stream",
          "name": "stdout",
          "text": [
            "['H', 'a', 'r', 'r', 'y', '1', '1', '2', '4', '_', 'P', 'o', 't', 't', 'e', 'r', '5', '6', '7']\n"
          ]
        }
      ],
      "source": [
        "a=\"Harry1124@#  _ Potter567\"\n",
        "b=re.findall(r\"\\w\",a)\n",
        "print(b)"
      ]
    },
    {
      "cell_type": "markdown",
      "metadata": {
        "id": "3kdCXemtlCY4"
      },
      "source": [
        "\\W  : Returns a match where the string DOES NOT contain any word characters"
      ]
    },
    {
      "cell_type": "code",
      "execution_count": null,
      "metadata": {
        "colab": {
          "base_uri": "https://localhost:8080/"
        },
        "id": "Qnq_mcMak99y",
        "outputId": "7c74e0f2-4e0b-477a-aad1-1693c7892ef5"
      },
      "outputs": [
        {
          "output_type": "stream",
          "name": "stdout",
          "text": [
            "['@', '#', ' ', ' ', ' ', ' ']\n"
          ]
        }
      ],
      "source": [
        "a=\"Harry1124@#    Potter567\"\n",
        "b=re.findall(r\"\\W\",a)\n",
        "print(b)"
      ]
    },
    {
      "cell_type": "code",
      "source": [
        "a=\" lfngng 52 jkhjkdfsk 60 ndkshhd 1006743676457647646 jsdjhf 0 \""
      ],
      "metadata": {
        "id": "_nCtwx1xf3nT"
      },
      "execution_count": null,
      "outputs": []
    },
    {
      "cell_type": "code",
      "source": [
        "b=re.findall(r\"\\d+\",a)\n",
        "print(b)\n",
        "b1=re.findall(r\"\\d[0-9]*\",a)\n",
        "print(b1)\n",
        "b2=re.findall(r\"[0-9]+\",a)\n",
        "print(b2)\n",
        "b2=re.findall(r\"[0-9]+\",a)\n",
        "print(b2)"
      ],
      "metadata": {
        "colab": {
          "base_uri": "https://localhost:8080/"
        },
        "id": "8-qoduNSiR94",
        "outputId": "080b1f3d-30ae-4cd6-f713-8b073fe2ae73"
      },
      "execution_count": null,
      "outputs": [
        {
          "output_type": "stream",
          "name": "stdout",
          "text": [
            "['52', '60', '1006743676457647646', '0']\n",
            "['52', '60', '1006743676457647646', '0']\n",
            "['52', '60', '1006743676457647646', '0']\n",
            "['52', '60', '1006743676457647646', '0']\n"
          ]
        }
      ]
    },
    {
      "cell_type": "code",
      "execution_count": null,
      "metadata": {
        "id": "TuCopIUylPN4"
      },
      "outputs": [],
      "source": [
        "import re\n"
      ]
    },
    {
      "cell_type": "code",
      "source": [
        "a=\"555-888-9999 hgdwhgfda, jhheh, 555-888-999  555-888-999 / 555-888-999\"\n",
        "print(re.findall(r\"\\d{3}-\\d{3}-\\d{4}|\\d{3}-\\d{3}-\\d{3}\",a))"
      ],
      "metadata": {
        "colab": {
          "base_uri": "https://localhost:8080/"
        },
        "id": "JwdbpDb_T1Qc",
        "outputId": "a995c349-eb7c-4db2-9633-22f55e312c86"
      },
      "execution_count": null,
      "outputs": [
        {
          "output_type": "stream",
          "name": "stdout",
          "text": [
            "['555-888-9999', '555-888-999', '555-888-999', '555-888-999']\n"
          ]
        }
      ]
    },
    {
      "cell_type": "markdown",
      "source": [
        "**Set Description**\n",
        "\n",
        "**[arn]** : \tReturns a match where one of the specified characters (a, r, or n) are present"
      ],
      "metadata": {
        "id": "tN6IiRUkjPh0"
      }
    },
    {
      "cell_type": "code",
      "source": [
        "a=\"Charlie and the chocolate factory\"\n",
        "b=re.findall(r\"[arn]\",a)\n",
        "print(b)\n"
      ],
      "metadata": {
        "colab": {
          "base_uri": "https://localhost:8080/"
        },
        "id": "NB5TAblOkKTy",
        "outputId": "baa44d9b-9582-4a7b-9c23-95db5329c325"
      },
      "execution_count": null,
      "outputs": [
        {
          "output_type": "stream",
          "name": "stdout",
          "text": [
            "['a', 'r', 'a', 'n', 'a', 'a', 'r']\n",
            "[]\n"
          ]
        }
      ]
    },
    {
      "cell_type": "markdown",
      "source": [
        "**[a-n]**  : Returns a match for any lower case character, alphabetically between a and n\n"
      ],
      "metadata": {
        "id": "L5_X48Uik3Z1"
      }
    },
    {
      "cell_type": "code",
      "source": [
        "a=\"Charlie and the chocolate factory\"\n",
        "b=re.findall(r\"[a-n]\",a)\n",
        "print(b)\n"
      ],
      "metadata": {
        "id": "nqb4RBQWUAHo",
        "colab": {
          "base_uri": "https://localhost:8080/"
        },
        "outputId": "415d4ab3-24ef-408a-98f8-910fe94ec234"
      },
      "execution_count": null,
      "outputs": [
        {
          "output_type": "stream",
          "name": "stdout",
          "text": [
            "['h', 'a', 'l', 'i', 'e', 'a', 'n', 'd', 'h', 'e', 'c', 'h', 'c', 'l', 'a', 'e', 'f', 'a', 'c']\n"
          ]
        }
      ]
    },
    {
      "cell_type": "markdown",
      "source": [
        "**[^arn]**  : Returns a match for any character EXCEPT a, r, and n"
      ],
      "metadata": {
        "id": "yC09nU9DlqPo"
      }
    },
    {
      "cell_type": "code",
      "source": [
        "a=\"Charlie and the chocolate factory\"\n",
        "b=re.findall(r\"[^arn]\",a)\n",
        "print(b)\n",
        "b1=re.findall(r\"[^a-n]\",a)\n",
        "print(b1)\n",
        "b2=re.findall(r\"^[arn]\",a)\n",
        "print(b2)\n"
      ],
      "metadata": {
        "colab": {
          "base_uri": "https://localhost:8080/"
        },
        "id": "K9YaP7BnliLU",
        "outputId": "f3d22cb5-4d26-4e03-93f7-d9e9f10bf5d9"
      },
      "execution_count": null,
      "outputs": [
        {
          "output_type": "stream",
          "name": "stdout",
          "text": [
            "['C', 'h', 'l', 'i', 'e', ' ', 'd', ' ', 't', 'h', 'e', ' ', 'c', 'h', 'o', 'c', 'o', 'l', 't', 'e', ' ', 'f', 'c', 't', 'o', 'y']\n",
            "['C', 'r', ' ', ' ', 't', ' ', 'o', 'o', 't', ' ', 't', 'o', 'r', 'y']\n",
            "[]\n"
          ]
        }
      ]
    },
    {
      "cell_type": "markdown",
      "source": [
        "**[0-5][0-9]**  : Returns a match for any two-digit numbers from 00 and 59"
      ],
      "metadata": {
        "id": "BnxX3WmlnyDO"
      }
    },
    {
      "cell_type": "code",
      "source": [
        "b=\"007887 7456754 464763 746376 747\"\n",
        "c=re.findall(r\"[7-8][6-7]\",b)\n",
        "print(c)\n",
        "c=re.findall(r\"[6-7]\",b)\n",
        "print(c)"
      ],
      "metadata": {
        "colab": {
          "base_uri": "https://localhost:8080/"
        },
        "id": "MAeLc4V7lza2",
        "outputId": "fd5b39ab-fd79-4adc-ef36-35eed9b54fa5"
      },
      "execution_count": null,
      "outputs": [
        {
          "output_type": "stream",
          "name": "stdout",
          "text": [
            "['87', '76', '76']\n",
            "['7', '7', '7', '6', '7', '6', '7', '6', '7', '6', '7', '6', '7', '7']\n"
          ]
        }
      ]
    },
    {
      "cell_type": "markdown",
      "source": [
        "**[a-zA-Z]**  : \tReturns a match for any character alphabetically between a and z, lower case OR upper case"
      ],
      "metadata": {
        "id": "rtLlB7IRqSts"
      }
    },
    {
      "cell_type": "code",
      "source": [
        "a=\"Charlie and the chocolate Factory\"\n",
        "b=re.findall(r\"[a-zA-Z]\",a)\n",
        "print(b)\n"
      ],
      "metadata": {
        "colab": {
          "base_uri": "https://localhost:8080/"
        },
        "id": "yxZix2HTnM9G",
        "outputId": "39d87373-4707-4315-95f6-5ec7d86393b4"
      },
      "execution_count": null,
      "outputs": [
        {
          "output_type": "stream",
          "name": "stdout",
          "text": [
            "['C', 'h', 'a', 'r', 'l', 'i', 'e', 'a', 'n', 'd', 't', 'h', 'e', 'c', 'h', 'o', 'c', 'o', 'l', 'a', 't', 'e', 'F', 'a', 'c', 't', 'o', 'r', 'y']\n"
          ]
        }
      ]
    },
    {
      "cell_type": "code",
      "source": [
        "a=\"Ram got 40 marks. Rajeev got 50 marks but Sham got 0 marks\""
      ],
      "metadata": {
        "id": "redegSYQqmtF"
      },
      "execution_count": null,
      "outputs": []
    },
    {
      "cell_type": "code",
      "source": [
        "print(a)"
      ],
      "metadata": {
        "colab": {
          "base_uri": "https://localhost:8080/"
        },
        "id": "elDKnYxrtP8L",
        "outputId": "01952ca4-88a2-46c9-af4b-927cff4b0814"
      },
      "execution_count": null,
      "outputs": [
        {
          "output_type": "stream",
          "name": "stdout",
          "text": [
            "Ram got 40 marks. Rajeev got 50 marks but Sham got 0 marks\n"
          ]
        }
      ]
    },
    {
      "cell_type": "code",
      "source": [
        "b=re.findall(r\"\\d[0-9]\",a)\n",
        "print(b)\n",
        "b=re.findall(r\"\\d+\",a)\n",
        "print(b)\n",
        "b1=re.findall(r\"[A-Z][a-z]*\",a)\n",
        "print(b1)"
      ],
      "metadata": {
        "colab": {
          "base_uri": "https://localhost:8080/"
        },
        "id": "8q_8eWSorooj",
        "outputId": "790a23a1-d843-4f05-a71e-8fd8c52516d6"
      },
      "execution_count": null,
      "outputs": [
        {
          "output_type": "stream",
          "name": "stdout",
          "text": [
            "['40', '50']\n",
            "['40', '50', '0']\n",
            "['Ram', 'Rajeev', 'Sham']\n"
          ]
        }
      ]
    },
    {
      "cell_type": "code",
      "source": [
        "import urllib.request  #Python module necessary for opening and reading URLs."
      ],
      "metadata": {
        "id": "My31OclGr-A5"
      },
      "execution_count": null,
      "outputs": []
    },
    {
      "cell_type": "code",
      "source": [
        "url=\"https://www.summet.com/dmsi/html/codesamples/addresses.html\"  #assigns the webpage's URL to a variable named url."
      ],
      "metadata": {
        "id": "c2kn4jslCiFB"
      },
      "execution_count": null,
      "outputs": []
    },
    {
      "cell_type": "code",
      "source": [
        "a=urllib.request.urlopen(url) #opens the URL and returns a response object, which is stored in variable a."
      ],
      "metadata": {
        "id": "r-oRTrHwvPlv"
      },
      "execution_count": null,
      "outputs": []
    },
    {
      "cell_type": "code",
      "source": [
        "print(a)"
      ],
      "metadata": {
        "colab": {
          "base_uri": "https://localhost:8080/"
        },
        "id": "RRolFWI1vYbH",
        "outputId": "29f62430-4e82-4fcc-fe09-9c9b4548acc9"
      },
      "execution_count": null,
      "outputs": [
        {
          "output_type": "stream",
          "name": "stdout",
          "text": [
            "<http.client.HTTPResponse object at 0x7ae8e9835870>\n"
          ]
        }
      ]
    },
    {
      "cell_type": "code",
      "source": [
        "b=a.read()  #reads the entire content of the response object (which is the webpage content in bytes) and stores it in variable b."
      ],
      "metadata": {
        "id": "lhBB4xrRveOf"
      },
      "execution_count": null,
      "outputs": []
    },
    {
      "cell_type": "code",
      "source": [
        "print(b)"
      ],
      "metadata": {
        "colab": {
          "base_uri": "https://localhost:8080/"
        },
        "id": "kJAAW-BuvmQS",
        "outputId": "7fb8699e-ad59-4cc5-f119-967754f3e538"
      },
      "execution_count": null,
      "outputs": [
        {
          "output_type": "stream",
          "name": "stdout",
          "text": [
            "b'<html>\\n<head>\\n\\t<title>Sample Addresses!</title>\\n<script async src=\"https://pagead2.googlesyndication.com/pagead/js/adsbygoogle.js?client=ca-pub-2760663110461940\"\\n     crossorigin=\"anonymous\"></script>\\n\\n</head>\\n<body>\\n<h1> A page full of sample addresses for your parsing enjoyment!</h1>\\n<h2> (All data is random....)</h2>\\n<ul>\\n\\n<script async src=\"https://pagead2.googlesyndication.com/pagead/js/adsbygoogle.js?client=ca-pub-2760663110461940\"\\n     crossorigin=\"anonymous\"></script>\\n<!-- summet.com-dmsi-addresses -->\\n<ins class=\"adsbygoogle\"\\n     style=\"display:block\"\\n     data-ad-client=\"ca-pub-2760663110461940\"\\n     data-ad-slot=\"5472586510\"\\n     data-ad-format=\"auto\"\\n     data-full-width-responsive=\"true\"></ins>\\n<script>\\n     (adsbygoogle = window.adsbygoogle || []).push({});\\n</script>\\n\\n<li>Cecilia Chapman<br/>711-2880 Nulla St.<br/>Mankato Mississippi 96522<br/>(257) 563-7401</li>\\n<li>Iris Watson<br/>P.O. Box 283 8562 Fusce Rd.<br/>Frederick Nebraska 20620<br/>(372) 587-2335</li>\\n<li>Celeste Slater<br/>606-3727 Ullamcorper. Street<br/>Roseville NH 11523<br/>(786) 713-8616</li>\\n<li>Theodore Lowe<br/>Ap #867-859 Sit Rd.<br/>Azusa New York 39531<br/>(793) 151-6230</li>\\n<li>Calista Wise<br/>7292 Dictum Av.<br/>San Antonio MI 47096<br/>(492) 709-6392</li>\\n<li>Kyla Olsen<br/>Ap #651-8679 Sodales Av.<br/>Tamuning PA 10855<br/>(654) 393-5734</li>\\n<li>Forrest Ray<br/>191-103 Integer Rd.<br/>Corona New Mexico 08219<br/>(404) 960-3807</li>\\n<li>Hiroko Potter<br/>P.O. Box 887 2508 Dolor. Av.<br/>Muskegon KY 12482<br/>(314) 244-6306</li>\\n<li>Nyssa Vazquez<br/>511-5762 At Rd.<br/>Chelsea MI 67708<br/>(947) 278-5929</li>\\n<li>Lawrence Moreno<br/>935-9940 Tortor. Street<br/>Santa Rosa MN 98804<br/>(684) 579-1879</li>\\n<li>Ina Moran<br/>P.O. Box 929 4189 Nunc Road<br/>Lebanon KY 69409<br/>(389) 737-2852</li>\\n<li>Aaron Hawkins<br/>5587 Nunc. Avenue<br/>Erie Rhode Island 24975<br/>(660) 663-4518</li>\\n<li>Hedy Greene<br/>Ap #696-3279 Viverra. Avenue<br/>Latrobe DE 38100<br/>(608) 265-2215</li>\\n<li>Melvin Porter<br/>P.O. Box 132 1599 Curabitur Rd.<br/>Bandera South Dakota 45149<br/>(959) 119-8364</li>\\n<li>Keefe Sellers<br/>347-7666 Iaculis St.<br/>Woodruff SC 49854<br/>(468) 353-2641</li>\\n<li>Joan Romero<br/>666-4366 Lacinia Avenue<br/>Idaho Falls Ohio 19253<br/>(248) 675-4007</li>\\n<li>Davis Patrick<br/>P.O. Box 147 2546 Sociosqu Rd.<br/>Bethlehem Utah 02913<br/>(939) 353-1107</li>\\n<li>Leilani Boyer<br/>557-6308 Lacinia Road<br/>San Bernardino ND 09289<br/>(570) 873-7090</li>\\n<li>Colby Bernard<br/>Ap #285-7193 Ullamcorper Avenue<br/>Amesbury HI 93373<br/>(302) 259-2375</li>\\n<li>Bryar Pitts<br/>5543 Aliquet St.<br/>Fort Dodge GA 20783<br/>(717) 450-4729</li>\\n<li>Rahim Henderson<br/>5037 Diam Rd.<br/>Daly City Ohio 90255<br/>(453) 391-4650</li>\\n<li>Noelle Adams<br/>6351 Fringilla Avenue<br/>Gardena Colorado 37547<br/>(559) 104-5475</li>\\n<li>Lillith Daniel<br/>935-1670 Neque. St.<br/>Centennial Delaware 48432<br/>(387) 142-9434</li>\\n<li>Adria Russell<br/>414-7533 Non Rd.<br/>Miami Beach North Dakota 58563<br/>(516) 745-4496</li>\\n<li>Hilda Haynes<br/>778-9383 Suspendisse Av.<br/>Weirton IN 93479<br/>(326) 677-3419</li>\\n<li>Sheila Mcintosh<br/>P.O. Box 360 4407 Et Rd.<br/>Santa Monica FL 30309<br/>(746) 679-2470</li>\\n<li>Rebecca Chambers<br/>P.O. Box 813 5982 Sit Ave<br/>Liberal Vermont 51324<br/>(455) 430-0989</li>\\n<li>Christian Emerson<br/>P.O. Box 886 4118 Arcu St.<br/>Rolling Hills Georgia 92358<br/>(490) 936-4694</li>\\n<li>Nevada Ware<br/>P.O. Box 597 4156 Tincidunt Ave<br/>Green Bay Indiana 19759<br/>(985) 834-8285</li>\\n<li>Margaret Joseph<br/>P.O. Box 508 3919 Gravida St.<br/>Tamuning Washington 55797<br/>(662) 661-1446</li>\\n<li>Edward Nieves<br/>928-3313 Vel Av.<br/>Idaho Falls Rhode Island 37232<br/>(802) 668-8240</li>\\n<li>Imani Talley<br/>P.O. Box 262 4978 Sit St.<br/>Yigo Massachusetts 50654<br/>(477) 768-9247</li>\\n<li>Bertha Riggs<br/>P.O. Box 206 6639 In St.<br/>Easthampton TN 31626<br/>(791) 239-9057</li>\\n<li>Wallace Ross<br/>313 Pellentesque Ave<br/>Villa Park Hawaii 43526<br/>(832) 109-0213</li>\\n<li>Chester Bennett<br/>3476 Aliquet. Ave<br/>Minot AZ 95302<br/>(837) 196-3274</li>\\n<li>Castor Richardson<br/>P.O. Box 902 3472 Ullamcorper Street<br/>Lynchburg DC 29738<br/>(268) 442-2428</li>\\n<li>Sonya Jordan<br/>Ap #443-336 Ullamcorper. Street<br/>Visalia VA 54886<br/>(850) 676-5117</li>\\n<li>Harrison Mcguire<br/>574-8633 Arcu Street<br/>San Fernando ID 77373<br/>(861) 546-5032</li>\\n<li>Malcolm Long<br/>9291 Proin Road<br/>Lake Charles Maine 11292<br/>(176) 805-4108</li>\\n<li>Raymond Levy<br/>Ap #643-7006 Risus St.<br/>Beaumont New Mexico 73585<br/>(715) 912-6931</li>\\n<li>Hedley Ingram<br/>737-2580 At Street<br/>Independence Texas 87535<br/>(993) 554-0563</li>\\n<li>David Mathews<br/>1011 Malesuada Road<br/>Moscow Kentucky 77382<br/>(357) 616-5411</li>\\n<li>Xyla Cash<br/>969-1762 Tincidunt Rd.<br/>Boise CT 35282<br/>(121) 347-0086</li>\\n<li>Madeline Gregory<br/>977-4841 Ut Ave<br/>Walla Walla Michigan 82776<br/>(304) 506-6314</li>\\n<li>Griffith Daniels<br/>6818 Eget St.<br/>Tacoma AL 92508<br/>(425) 288-2332</li>\\n<li>Anne Beasley<br/>987-4223 Urna St.<br/>Savannah Illinois 85794<br/>(145) 987-4962</li>\\n<li>Chaney Bennett<br/>P.O. Box 721 902 Dolor Rd.<br/>Fremont AK 19408<br/>(187) 582-9707</li>\\n<li>Daniel Bernard<br/>P.O. Box 567 1561 Duis Rd.<br/>Pomona TN 08609<br/>(750) 558-3965</li>\\n<li>Willow Hunt<br/>Ap #784-1887 Lobortis Ave<br/>Cudahy Ohio 31522<br/>(492) 467-3131</li>\\n<li>Judith Floyd<br/>361-7936 Feugiat St.<br/>Williston Nevada 58521<br/>(774) 914-2510</li>\\n<li>Seth Farley<br/>6216 Aenean Avenue<br/>Seattle Utah 81202<br/>(888) 106-8550</li>\\n<li>Zephania Sanders<br/>3714 Nascetur St.<br/>Hawthorne Louisiana 10626<br/>(539) 567-3573</li>\\n<li>Calista Merritt<br/>Ap #938-5470 Posuere Ave<br/>Chickasha LA 58520<br/>(693) 337-2849</li>\\n<li>Craig Williams<br/>P.O. Box 372 5634 Montes Rd.<br/>Springdale MO 57692<br/>(545) 604-9386</li>\\n<li>Lee Preston<br/>981 Eget Rd.<br/>Clemson GA 04645<br/>(221) 156-5026</li>\\n<li>Katelyn Cooper<br/>6059 Sollicitudin Road<br/>Burlingame Colorado 26278<br/>(414) 876-0865</li>\\n<li>Lacy Eaton<br/>1379 Nulla. Av.<br/>Asbury Park Montana 69679<br/>(932) 726-8645</li>\\n<li>Driscoll Leach<br/>P.O. Box 120 2410 Odio Avenue<br/>Pass Christian Delaware 03869<br/>(726) 710-9826</li>\\n<li>Merritt Watson<br/>P.O. Box 686 7014 Amet Street<br/>Corona Oklahoma 55246<br/>(622) 594-1662</li>\\n<li>Nehru Holmes<br/>P.O. Box 547 4764 Sed Road<br/>Grand Rapids CT 87323<br/>(948) 600-8503</li>\\n<li>Quamar Rivera<br/>427-5827 Ac St.<br/>Schaumburg Arkansas 84872<br/>(605) 900-7508</li>\\n<li>Hiram Mullins<br/>754-6427 Nunc Ave<br/>Kennewick AL 41329<br/>(716) 977-5775</li>\\n<li>Kim Fletcher<br/>Ap #345-3847 Metus Road<br/>Independence CO 30135<br/>(368) 239-8275</li>\\n<li>Rigel Koch<br/>P.O. Box 558 9561 Lacus. Road<br/>Laughlin Hawaii 99602<br/>(725) 342-0650</li>\\n<li>Jeanette Sharpe<br/>Ap #364-2006 Ipsum Avenue<br/>Wilmington Ohio 91750<br/>(711) 993-5187</li>\\n<li>Dahlia Lee<br/>1293 Tincidunt Street<br/>Atwater Pennsylvania 76865<br/>(882) 399-5084</li>\\n<li>Howard Hayden<br/>P.O. Box 847 8019 Facilisis Street<br/>Joliet SC 73490<br/>(287) 755-9948</li>\\n<li>Hyatt Kramer<br/>1011 Massa Av.<br/>Kent ID 63725<br/>(659) 551-3389</li>\\n<li>Sonya Ray<br/>Ap #315-8441 Eleifend Street<br/>Fairbanks RI 96892<br/>(275) 730-6868</li>\\n<li>Cara Whitehead<br/>4005 Praesent St.<br/>Torrance Wyoming 22767<br/>(725) 757-4047</li>\\n<li>Blythe Carroll<br/>7709 Justo. Ave<br/>Princeton TX 77987<br/>(314) 882-1496</li>\\n<li>Dale Griffin<br/>P.O. Box 854 8580 In Ave<br/>Revere South Dakota 43841<br/>(639) 360-7590</li>\\n<li>McKenzie Hernandez<br/>Ap #367-674 Mi Street<br/>Greensboro VT 40684<br/>(168) 222-1592</li>\\n<li>Haviva Holcomb<br/>P.O. Box 642 3450 In Road<br/>Isle of Palms New York 03828<br/>(896) 303-1164</li>\\n<li>Ezra Duffy<br/>Ap #782-7348 Dis Rd.<br/>Austin KY 50710<br/>(203) 982-6130</li>\\n<li>Eleanor Jennings<br/>9631 Semper Ave<br/>Astoria NJ 66309<br/>(906) 217-1470</li>\\n<li>Remedios Hester<br/>487-5787 Mollis St.<br/>City of Industry Louisiana 67973<br/>(614) 514-1269</li>\\n<li>Jasper Carney<br/>1195 Lobortis Rd.<br/>New Orleans New Hampshire 71983<br/>(763) 409-5446</li>\\n<li>Vielka Nielsen<br/>Ap #517-7326 Elementum Rd.<br/>Fort Smith North Dakota 79637<br/>(836) 292-5324</li>\\n<li>Wilma Pace<br/>Ap #676-6532 Odio Rd.<br/>Darlington CO 06963<br/>(926) 709-3295</li>\\n<li>Palmer Gay<br/>557-2026 Purus St.<br/>Watertown TN 07367<br/>(963) 356-9268</li>\\n<li>Lyle Sutton<br/>Ap #250-9843 Elementum St.<br/>South Gate Missouri 68999<br/>(736) 522-8584</li>\\n<li>Ina Burt<br/>Ap #130-1685 Ut Street<br/>Tyler KS 73510<br/>(410) 483-0352</li>\\n<li>Cleo Best<br/>282-8351 Tincidunt Ave<br/>Sedalia Utah 53700<br/>(252) 204-1434</li>\\n<li>Hu Park<br/>1429 Netus Rd.<br/>Reedsport NY 48247<br/>(874) 886-4174</li>\\n<li>Liberty Walton<br/>343-6527 Purus. Avenue<br/>Logan NV 12657<br/>(581) 379-7573</li>\\n<li>Aaron Trujillo<br/>Ap #146-3132 Cras Rd.<br/>Kingsport NH 56618<br/>(983) 632-8597</li>\\n<li>Elmo Lopez<br/>Ap #481-7473 Cum Rd.<br/>Yorba Linda South Carolina 28423<br/>(295) 983-3476</li>\\n<li>Emerson Espinoza<br/>Ap #247-5577 Tincidunt St.<br/>Corpus Christi WI 97020<br/>(873) 392-8802</li>\\n<li>Daniel Malone<br/>2136 Adipiscing Av.<br/>Lima RI 93490<br/>(360) 669-3923</li>\\n<li>Dante Bennett<br/>481-8762 Nulla Street<br/>Dearborn OR 62401<br/>(840) 987-9449</li>\\n<li>Sade Higgins<br/>Ap #287-3260 Ut St.<br/>Wilmington OR 05182<br/>(422) 517-6053</li>\\n<li>Zorita Anderson<br/>1964 Facilisis Avenue<br/>Bell Gardens Texas 87065<br/>(126) 940-2753</li>\\n<li>Jordan Calderon<br/>430-985 Eleifend St.<br/>Duluth Washington 92611<br/>(427) 930-5255</li>\\n<li>Ivor Delgado<br/>Ap #310-1678 Ut Av.<br/>Santa Barbara MT 88317<br/>(689) 721-5145</li>\\n<li>Pascale Patton<br/>P.O. Box 399 4275 Amet Street<br/>West Allis NC 36734<br/>(676) 334-2174</li>\\n<li>Nasim Strong<br/>Ap #630-3889 Nulla. Street<br/>Watervliet Oklahoma 70863<br/>(437) 994-5270</li>\\n<li>Keaton Underwood<br/>Ap #636-8082 Arcu Avenue<br/>Thiensville Maryland 19587<br/>(564) 908-6970</li>\\n<li>Keegan Blair<br/>Ap #761-2515 Egestas. Rd.<br/>Manitowoc TN 07528<br/>(577) 333-6244</li>\\n<li>Tamara Howe<br/>3415 Lobortis. Avenue<br/>Rocky Mount WA 48580<br/>(655) 840-6139</li>\\n </ul> </body></html>\\n'\n"
          ]
        }
      ]
    },
    {
      "cell_type": "code",
      "source": [
        "b1=b.decode() #Decoding Content: b1=b.decode() decodes the bytes object (b) into a string using the default UTF-8 encoding, resulting in the webpage's source code as a string, stored in variable b1."
      ],
      "metadata": {
        "id": "UQyt5hWPvnhp"
      },
      "execution_count": null,
      "outputs": []
    },
    {
      "cell_type": "code",
      "source": [
        "print(b1)"
      ],
      "metadata": {
        "colab": {
          "base_uri": "https://localhost:8080/"
        },
        "id": "j5i0SxLCvvyn",
        "outputId": "30981a02-838b-4120-b953-06bb3f78e115"
      },
      "execution_count": null,
      "outputs": [
        {
          "output_type": "stream",
          "name": "stdout",
          "text": [
            "<html>\n",
            "<head>\n",
            "\t<title>Sample Addresses!</title>\n",
            "<script async src=\"https://pagead2.googlesyndication.com/pagead/js/adsbygoogle.js?client=ca-pub-2760663110461940\"\n",
            "     crossorigin=\"anonymous\"></script>\n",
            "\n",
            "</head>\n",
            "<body>\n",
            "<h1> A page full of sample addresses for your parsing enjoyment!</h1>\n",
            "<h2> (All data is random....)</h2>\n",
            "<ul>\n",
            "\n",
            "<script async src=\"https://pagead2.googlesyndication.com/pagead/js/adsbygoogle.js?client=ca-pub-2760663110461940\"\n",
            "     crossorigin=\"anonymous\"></script>\n",
            "<!-- summet.com-dmsi-addresses -->\n",
            "<ins class=\"adsbygoogle\"\n",
            "     style=\"display:block\"\n",
            "     data-ad-client=\"ca-pub-2760663110461940\"\n",
            "     data-ad-slot=\"5472586510\"\n",
            "     data-ad-format=\"auto\"\n",
            "     data-full-width-responsive=\"true\"></ins>\n",
            "<script>\n",
            "     (adsbygoogle = window.adsbygoogle || []).push({});\n",
            "</script>\n",
            "\n",
            "<li>Cecilia Chapman<br/>711-2880 Nulla St.<br/>Mankato Mississippi 96522<br/>(257) 563-7401</li>\n",
            "<li>Iris Watson<br/>P.O. Box 283 8562 Fusce Rd.<br/>Frederick Nebraska 20620<br/>(372) 587-2335</li>\n",
            "<li>Celeste Slater<br/>606-3727 Ullamcorper. Street<br/>Roseville NH 11523<br/>(786) 713-8616</li>\n",
            "<li>Theodore Lowe<br/>Ap #867-859 Sit Rd.<br/>Azusa New York 39531<br/>(793) 151-6230</li>\n",
            "<li>Calista Wise<br/>7292 Dictum Av.<br/>San Antonio MI 47096<br/>(492) 709-6392</li>\n",
            "<li>Kyla Olsen<br/>Ap #651-8679 Sodales Av.<br/>Tamuning PA 10855<br/>(654) 393-5734</li>\n",
            "<li>Forrest Ray<br/>191-103 Integer Rd.<br/>Corona New Mexico 08219<br/>(404) 960-3807</li>\n",
            "<li>Hiroko Potter<br/>P.O. Box 887 2508 Dolor. Av.<br/>Muskegon KY 12482<br/>(314) 244-6306</li>\n",
            "<li>Nyssa Vazquez<br/>511-5762 At Rd.<br/>Chelsea MI 67708<br/>(947) 278-5929</li>\n",
            "<li>Lawrence Moreno<br/>935-9940 Tortor. Street<br/>Santa Rosa MN 98804<br/>(684) 579-1879</li>\n",
            "<li>Ina Moran<br/>P.O. Box 929 4189 Nunc Road<br/>Lebanon KY 69409<br/>(389) 737-2852</li>\n",
            "<li>Aaron Hawkins<br/>5587 Nunc. Avenue<br/>Erie Rhode Island 24975<br/>(660) 663-4518</li>\n",
            "<li>Hedy Greene<br/>Ap #696-3279 Viverra. Avenue<br/>Latrobe DE 38100<br/>(608) 265-2215</li>\n",
            "<li>Melvin Porter<br/>P.O. Box 132 1599 Curabitur Rd.<br/>Bandera South Dakota 45149<br/>(959) 119-8364</li>\n",
            "<li>Keefe Sellers<br/>347-7666 Iaculis St.<br/>Woodruff SC 49854<br/>(468) 353-2641</li>\n",
            "<li>Joan Romero<br/>666-4366 Lacinia Avenue<br/>Idaho Falls Ohio 19253<br/>(248) 675-4007</li>\n",
            "<li>Davis Patrick<br/>P.O. Box 147 2546 Sociosqu Rd.<br/>Bethlehem Utah 02913<br/>(939) 353-1107</li>\n",
            "<li>Leilani Boyer<br/>557-6308 Lacinia Road<br/>San Bernardino ND 09289<br/>(570) 873-7090</li>\n",
            "<li>Colby Bernard<br/>Ap #285-7193 Ullamcorper Avenue<br/>Amesbury HI 93373<br/>(302) 259-2375</li>\n",
            "<li>Bryar Pitts<br/>5543 Aliquet St.<br/>Fort Dodge GA 20783<br/>(717) 450-4729</li>\n",
            "<li>Rahim Henderson<br/>5037 Diam Rd.<br/>Daly City Ohio 90255<br/>(453) 391-4650</li>\n",
            "<li>Noelle Adams<br/>6351 Fringilla Avenue<br/>Gardena Colorado 37547<br/>(559) 104-5475</li>\n",
            "<li>Lillith Daniel<br/>935-1670 Neque. St.<br/>Centennial Delaware 48432<br/>(387) 142-9434</li>\n",
            "<li>Adria Russell<br/>414-7533 Non Rd.<br/>Miami Beach North Dakota 58563<br/>(516) 745-4496</li>\n",
            "<li>Hilda Haynes<br/>778-9383 Suspendisse Av.<br/>Weirton IN 93479<br/>(326) 677-3419</li>\n",
            "<li>Sheila Mcintosh<br/>P.O. Box 360 4407 Et Rd.<br/>Santa Monica FL 30309<br/>(746) 679-2470</li>\n",
            "<li>Rebecca Chambers<br/>P.O. Box 813 5982 Sit Ave<br/>Liberal Vermont 51324<br/>(455) 430-0989</li>\n",
            "<li>Christian Emerson<br/>P.O. Box 886 4118 Arcu St.<br/>Rolling Hills Georgia 92358<br/>(490) 936-4694</li>\n",
            "<li>Nevada Ware<br/>P.O. Box 597 4156 Tincidunt Ave<br/>Green Bay Indiana 19759<br/>(985) 834-8285</li>\n",
            "<li>Margaret Joseph<br/>P.O. Box 508 3919 Gravida St.<br/>Tamuning Washington 55797<br/>(662) 661-1446</li>\n",
            "<li>Edward Nieves<br/>928-3313 Vel Av.<br/>Idaho Falls Rhode Island 37232<br/>(802) 668-8240</li>\n",
            "<li>Imani Talley<br/>P.O. Box 262 4978 Sit St.<br/>Yigo Massachusetts 50654<br/>(477) 768-9247</li>\n",
            "<li>Bertha Riggs<br/>P.O. Box 206 6639 In St.<br/>Easthampton TN 31626<br/>(791) 239-9057</li>\n",
            "<li>Wallace Ross<br/>313 Pellentesque Ave<br/>Villa Park Hawaii 43526<br/>(832) 109-0213</li>\n",
            "<li>Chester Bennett<br/>3476 Aliquet. Ave<br/>Minot AZ 95302<br/>(837) 196-3274</li>\n",
            "<li>Castor Richardson<br/>P.O. Box 902 3472 Ullamcorper Street<br/>Lynchburg DC 29738<br/>(268) 442-2428</li>\n",
            "<li>Sonya Jordan<br/>Ap #443-336 Ullamcorper. Street<br/>Visalia VA 54886<br/>(850) 676-5117</li>\n",
            "<li>Harrison Mcguire<br/>574-8633 Arcu Street<br/>San Fernando ID 77373<br/>(861) 546-5032</li>\n",
            "<li>Malcolm Long<br/>9291 Proin Road<br/>Lake Charles Maine 11292<br/>(176) 805-4108</li>\n",
            "<li>Raymond Levy<br/>Ap #643-7006 Risus St.<br/>Beaumont New Mexico 73585<br/>(715) 912-6931</li>\n",
            "<li>Hedley Ingram<br/>737-2580 At Street<br/>Independence Texas 87535<br/>(993) 554-0563</li>\n",
            "<li>David Mathews<br/>1011 Malesuada Road<br/>Moscow Kentucky 77382<br/>(357) 616-5411</li>\n",
            "<li>Xyla Cash<br/>969-1762 Tincidunt Rd.<br/>Boise CT 35282<br/>(121) 347-0086</li>\n",
            "<li>Madeline Gregory<br/>977-4841 Ut Ave<br/>Walla Walla Michigan 82776<br/>(304) 506-6314</li>\n",
            "<li>Griffith Daniels<br/>6818 Eget St.<br/>Tacoma AL 92508<br/>(425) 288-2332</li>\n",
            "<li>Anne Beasley<br/>987-4223 Urna St.<br/>Savannah Illinois 85794<br/>(145) 987-4962</li>\n",
            "<li>Chaney Bennett<br/>P.O. Box 721 902 Dolor Rd.<br/>Fremont AK 19408<br/>(187) 582-9707</li>\n",
            "<li>Daniel Bernard<br/>P.O. Box 567 1561 Duis Rd.<br/>Pomona TN 08609<br/>(750) 558-3965</li>\n",
            "<li>Willow Hunt<br/>Ap #784-1887 Lobortis Ave<br/>Cudahy Ohio 31522<br/>(492) 467-3131</li>\n",
            "<li>Judith Floyd<br/>361-7936 Feugiat St.<br/>Williston Nevada 58521<br/>(774) 914-2510</li>\n",
            "<li>Seth Farley<br/>6216 Aenean Avenue<br/>Seattle Utah 81202<br/>(888) 106-8550</li>\n",
            "<li>Zephania Sanders<br/>3714 Nascetur St.<br/>Hawthorne Louisiana 10626<br/>(539) 567-3573</li>\n",
            "<li>Calista Merritt<br/>Ap #938-5470 Posuere Ave<br/>Chickasha LA 58520<br/>(693) 337-2849</li>\n",
            "<li>Craig Williams<br/>P.O. Box 372 5634 Montes Rd.<br/>Springdale MO 57692<br/>(545) 604-9386</li>\n",
            "<li>Lee Preston<br/>981 Eget Rd.<br/>Clemson GA 04645<br/>(221) 156-5026</li>\n",
            "<li>Katelyn Cooper<br/>6059 Sollicitudin Road<br/>Burlingame Colorado 26278<br/>(414) 876-0865</li>\n",
            "<li>Lacy Eaton<br/>1379 Nulla. Av.<br/>Asbury Park Montana 69679<br/>(932) 726-8645</li>\n",
            "<li>Driscoll Leach<br/>P.O. Box 120 2410 Odio Avenue<br/>Pass Christian Delaware 03869<br/>(726) 710-9826</li>\n",
            "<li>Merritt Watson<br/>P.O. Box 686 7014 Amet Street<br/>Corona Oklahoma 55246<br/>(622) 594-1662</li>\n",
            "<li>Nehru Holmes<br/>P.O. Box 547 4764 Sed Road<br/>Grand Rapids CT 87323<br/>(948) 600-8503</li>\n",
            "<li>Quamar Rivera<br/>427-5827 Ac St.<br/>Schaumburg Arkansas 84872<br/>(605) 900-7508</li>\n",
            "<li>Hiram Mullins<br/>754-6427 Nunc Ave<br/>Kennewick AL 41329<br/>(716) 977-5775</li>\n",
            "<li>Kim Fletcher<br/>Ap #345-3847 Metus Road<br/>Independence CO 30135<br/>(368) 239-8275</li>\n",
            "<li>Rigel Koch<br/>P.O. Box 558 9561 Lacus. Road<br/>Laughlin Hawaii 99602<br/>(725) 342-0650</li>\n",
            "<li>Jeanette Sharpe<br/>Ap #364-2006 Ipsum Avenue<br/>Wilmington Ohio 91750<br/>(711) 993-5187</li>\n",
            "<li>Dahlia Lee<br/>1293 Tincidunt Street<br/>Atwater Pennsylvania 76865<br/>(882) 399-5084</li>\n",
            "<li>Howard Hayden<br/>P.O. Box 847 8019 Facilisis Street<br/>Joliet SC 73490<br/>(287) 755-9948</li>\n",
            "<li>Hyatt Kramer<br/>1011 Massa Av.<br/>Kent ID 63725<br/>(659) 551-3389</li>\n",
            "<li>Sonya Ray<br/>Ap #315-8441 Eleifend Street<br/>Fairbanks RI 96892<br/>(275) 730-6868</li>\n",
            "<li>Cara Whitehead<br/>4005 Praesent St.<br/>Torrance Wyoming 22767<br/>(725) 757-4047</li>\n",
            "<li>Blythe Carroll<br/>7709 Justo. Ave<br/>Princeton TX 77987<br/>(314) 882-1496</li>\n",
            "<li>Dale Griffin<br/>P.O. Box 854 8580 In Ave<br/>Revere South Dakota 43841<br/>(639) 360-7590</li>\n",
            "<li>McKenzie Hernandez<br/>Ap #367-674 Mi Street<br/>Greensboro VT 40684<br/>(168) 222-1592</li>\n",
            "<li>Haviva Holcomb<br/>P.O. Box 642 3450 In Road<br/>Isle of Palms New York 03828<br/>(896) 303-1164</li>\n",
            "<li>Ezra Duffy<br/>Ap #782-7348 Dis Rd.<br/>Austin KY 50710<br/>(203) 982-6130</li>\n",
            "<li>Eleanor Jennings<br/>9631 Semper Ave<br/>Astoria NJ 66309<br/>(906) 217-1470</li>\n",
            "<li>Remedios Hester<br/>487-5787 Mollis St.<br/>City of Industry Louisiana 67973<br/>(614) 514-1269</li>\n",
            "<li>Jasper Carney<br/>1195 Lobortis Rd.<br/>New Orleans New Hampshire 71983<br/>(763) 409-5446</li>\n",
            "<li>Vielka Nielsen<br/>Ap #517-7326 Elementum Rd.<br/>Fort Smith North Dakota 79637<br/>(836) 292-5324</li>\n",
            "<li>Wilma Pace<br/>Ap #676-6532 Odio Rd.<br/>Darlington CO 06963<br/>(926) 709-3295</li>\n",
            "<li>Palmer Gay<br/>557-2026 Purus St.<br/>Watertown TN 07367<br/>(963) 356-9268</li>\n",
            "<li>Lyle Sutton<br/>Ap #250-9843 Elementum St.<br/>South Gate Missouri 68999<br/>(736) 522-8584</li>\n",
            "<li>Ina Burt<br/>Ap #130-1685 Ut Street<br/>Tyler KS 73510<br/>(410) 483-0352</li>\n",
            "<li>Cleo Best<br/>282-8351 Tincidunt Ave<br/>Sedalia Utah 53700<br/>(252) 204-1434</li>\n",
            "<li>Hu Park<br/>1429 Netus Rd.<br/>Reedsport NY 48247<br/>(874) 886-4174</li>\n",
            "<li>Liberty Walton<br/>343-6527 Purus. Avenue<br/>Logan NV 12657<br/>(581) 379-7573</li>\n",
            "<li>Aaron Trujillo<br/>Ap #146-3132 Cras Rd.<br/>Kingsport NH 56618<br/>(983) 632-8597</li>\n",
            "<li>Elmo Lopez<br/>Ap #481-7473 Cum Rd.<br/>Yorba Linda South Carolina 28423<br/>(295) 983-3476</li>\n",
            "<li>Emerson Espinoza<br/>Ap #247-5577 Tincidunt St.<br/>Corpus Christi WI 97020<br/>(873) 392-8802</li>\n",
            "<li>Daniel Malone<br/>2136 Adipiscing Av.<br/>Lima RI 93490<br/>(360) 669-3923</li>\n",
            "<li>Dante Bennett<br/>481-8762 Nulla Street<br/>Dearborn OR 62401<br/>(840) 987-9449</li>\n",
            "<li>Sade Higgins<br/>Ap #287-3260 Ut St.<br/>Wilmington OR 05182<br/>(422) 517-6053</li>\n",
            "<li>Zorita Anderson<br/>1964 Facilisis Avenue<br/>Bell Gardens Texas 87065<br/>(126) 940-2753</li>\n",
            "<li>Jordan Calderon<br/>430-985 Eleifend St.<br/>Duluth Washington 92611<br/>(427) 930-5255</li>\n",
            "<li>Ivor Delgado<br/>Ap #310-1678 Ut Av.<br/>Santa Barbara MT 88317<br/>(689) 721-5145</li>\n",
            "<li>Pascale Patton<br/>P.O. Box 399 4275 Amet Street<br/>West Allis NC 36734<br/>(676) 334-2174</li>\n",
            "<li>Nasim Strong<br/>Ap #630-3889 Nulla. Street<br/>Watervliet Oklahoma 70863<br/>(437) 994-5270</li>\n",
            "<li>Keaton Underwood<br/>Ap #636-8082 Arcu Avenue<br/>Thiensville Maryland 19587<br/>(564) 908-6970</li>\n",
            "<li>Keegan Blair<br/>Ap #761-2515 Egestas. Rd.<br/>Manitowoc TN 07528<br/>(577) 333-6244</li>\n",
            "<li>Tamara Howe<br/>3415 Lobortis. Avenue<br/>Rocky Mount WA 48580<br/>(655) 840-6139</li>\n",
            " </ul> </body></html>\n",
            "\n"
          ]
        }
      ]
    },
    {
      "cell_type": "code",
      "source": [
        "ph=re.findall(r\"\\(\\d{3}\\) \\d{3}-\\d{4}\",b1)\n",
        "\n"
      ],
      "metadata": {
        "id": "lI5sxMrMvxl2"
      },
      "execution_count": null,
      "outputs": []
    },
    {
      "cell_type": "code",
      "source": [
        "print(ph)\n"
      ],
      "metadata": {
        "colab": {
          "base_uri": "https://localhost:8080/"
        },
        "id": "M-hJOiidw1AX",
        "outputId": "0453bd43-2049-4abb-a31c-983f6fae7bbd"
      },
      "execution_count": null,
      "outputs": [
        {
          "output_type": "stream",
          "name": "stdout",
          "text": [
            "['(257) 563-7401', '(372) 587-2335', '(786) 713-8616', '(793) 151-6230', '(492) 709-6392', '(654) 393-5734', '(404) 960-3807', '(314) 244-6306', '(947) 278-5929', '(684) 579-1879', '(389) 737-2852', '(660) 663-4518', '(608) 265-2215', '(959) 119-8364', '(468) 353-2641', '(248) 675-4007', '(939) 353-1107', '(570) 873-7090', '(302) 259-2375', '(717) 450-4729', '(453) 391-4650', '(559) 104-5475', '(387) 142-9434', '(516) 745-4496', '(326) 677-3419', '(746) 679-2470', '(455) 430-0989', '(490) 936-4694', '(985) 834-8285', '(662) 661-1446', '(802) 668-8240', '(477) 768-9247', '(791) 239-9057', '(832) 109-0213', '(837) 196-3274', '(268) 442-2428', '(850) 676-5117', '(861) 546-5032', '(176) 805-4108', '(715) 912-6931', '(993) 554-0563', '(357) 616-5411', '(121) 347-0086', '(304) 506-6314', '(425) 288-2332', '(145) 987-4962', '(187) 582-9707', '(750) 558-3965', '(492) 467-3131', '(774) 914-2510', '(888) 106-8550', '(539) 567-3573', '(693) 337-2849', '(545) 604-9386', '(221) 156-5026', '(414) 876-0865', '(932) 726-8645', '(726) 710-9826', '(622) 594-1662', '(948) 600-8503', '(605) 900-7508', '(716) 977-5775', '(368) 239-8275', '(725) 342-0650', '(711) 993-5187', '(882) 399-5084', '(287) 755-9948', '(659) 551-3389', '(275) 730-6868', '(725) 757-4047', '(314) 882-1496', '(639) 360-7590', '(168) 222-1592', '(896) 303-1164', '(203) 982-6130', '(906) 217-1470', '(614) 514-1269', '(763) 409-5446', '(836) 292-5324', '(926) 709-3295', '(963) 356-9268', '(736) 522-8584', '(410) 483-0352', '(252) 204-1434', '(874) 886-4174', '(581) 379-7573', '(983) 632-8597', '(295) 983-3476', '(873) 392-8802', '(360) 669-3923', '(840) 987-9449', '(422) 517-6053', '(126) 940-2753', '(427) 930-5255', '(689) 721-5145', '(676) 334-2174', '(437) 994-5270', '(564) 908-6970', '(577) 333-6244', '(655) 840-6139']\n"
          ]
        }
      ]
    },
    {
      "cell_type": "code",
      "source": [
        "for a in ph:\n",
        "  print(a)"
      ],
      "metadata": {
        "colab": {
          "base_uri": "https://localhost:8080/"
        },
        "id": "M1QtKuHL49W0",
        "outputId": "ff7fb70d-0e70-4d56-b883-2849c7c9f2ea"
      },
      "execution_count": null,
      "outputs": [
        {
          "output_type": "stream",
          "name": "stdout",
          "text": [
            "(257) 563-7401\n",
            "(372) 587-2335\n",
            "(786) 713-8616\n",
            "(793) 151-6230\n",
            "(492) 709-6392\n",
            "(654) 393-5734\n",
            "(404) 960-3807\n",
            "(314) 244-6306\n",
            "(947) 278-5929\n",
            "(684) 579-1879\n",
            "(389) 737-2852\n",
            "(660) 663-4518\n",
            "(608) 265-2215\n",
            "(959) 119-8364\n",
            "(468) 353-2641\n",
            "(248) 675-4007\n",
            "(939) 353-1107\n",
            "(570) 873-7090\n",
            "(302) 259-2375\n",
            "(717) 450-4729\n",
            "(453) 391-4650\n",
            "(559) 104-5475\n",
            "(387) 142-9434\n",
            "(516) 745-4496\n",
            "(326) 677-3419\n",
            "(746) 679-2470\n",
            "(455) 430-0989\n",
            "(490) 936-4694\n",
            "(985) 834-8285\n",
            "(662) 661-1446\n",
            "(802) 668-8240\n",
            "(477) 768-9247\n",
            "(791) 239-9057\n",
            "(832) 109-0213\n",
            "(837) 196-3274\n",
            "(268) 442-2428\n",
            "(850) 676-5117\n",
            "(861) 546-5032\n",
            "(176) 805-4108\n",
            "(715) 912-6931\n",
            "(993) 554-0563\n",
            "(357) 616-5411\n",
            "(121) 347-0086\n",
            "(304) 506-6314\n",
            "(425) 288-2332\n",
            "(145) 987-4962\n",
            "(187) 582-9707\n",
            "(750) 558-3965\n",
            "(492) 467-3131\n",
            "(774) 914-2510\n",
            "(888) 106-8550\n",
            "(539) 567-3573\n",
            "(693) 337-2849\n",
            "(545) 604-9386\n",
            "(221) 156-5026\n",
            "(414) 876-0865\n",
            "(932) 726-8645\n",
            "(726) 710-9826\n",
            "(622) 594-1662\n",
            "(948) 600-8503\n",
            "(605) 900-7508\n",
            "(716) 977-5775\n",
            "(368) 239-8275\n",
            "(725) 342-0650\n",
            "(711) 993-5187\n",
            "(882) 399-5084\n",
            "(287) 755-9948\n",
            "(659) 551-3389\n",
            "(275) 730-6868\n",
            "(725) 757-4047\n",
            "(314) 882-1496\n",
            "(639) 360-7590\n",
            "(168) 222-1592\n",
            "(896) 303-1164\n",
            "(203) 982-6130\n",
            "(906) 217-1470\n",
            "(614) 514-1269\n",
            "(763) 409-5446\n",
            "(836) 292-5324\n",
            "(926) 709-3295\n",
            "(963) 356-9268\n",
            "(736) 522-8584\n",
            "(410) 483-0352\n",
            "(252) 204-1434\n",
            "(874) 886-4174\n",
            "(581) 379-7573\n",
            "(983) 632-8597\n",
            "(295) 983-3476\n",
            "(873) 392-8802\n",
            "(360) 669-3923\n",
            "(840) 987-9449\n",
            "(422) 517-6053\n",
            "(126) 940-2753\n",
            "(427) 930-5255\n",
            "(689) 721-5145\n",
            "(676) 334-2174\n",
            "(437) 994-5270\n",
            "(564) 908-6970\n",
            "(577) 333-6244\n",
            "(655) 840-6139\n"
          ]
        }
      ]
    },
    {
      "cell_type": "code",
      "source": [
        "c=re.findall(r\"[A-Z][a-z]* [A-Z][a-z]*\",b1)"
      ],
      "metadata": {
        "id": "KgQ96-m79gax"
      },
      "execution_count": null,
      "outputs": []
    },
    {
      "cell_type": "code",
      "source": [
        "print(c)"
      ],
      "metadata": {
        "colab": {
          "base_uri": "https://localhost:8080/"
        },
        "id": "jovwFwggxcTz",
        "outputId": "d3bb4d50-57b8-43c8-eddb-ed45d28193e2"
      },
      "execution_count": null,
      "outputs": [
        {
          "output_type": "stream",
          "name": "stdout",
          "text": [
            "['Sample Addresses', 'Cecilia Chapman', 'Nulla St', 'Mankato Mississippi', 'Iris Watson', 'Fusce Rd', 'Frederick Nebraska', 'Celeste Slater', 'Roseville N', 'Theodore Lowe', 'Sit Rd', 'Azusa New', 'Calista Wise', 'Dictum Av', 'San Antonio', 'Kyla Olsen', 'Sodales Av', 'Tamuning P', 'Forrest Ray', 'Integer Rd', 'Corona New', 'Hiroko Potter', 'Muskegon K', 'Nyssa Vazquez', 'At Rd', 'Chelsea M', 'Lawrence Moreno', 'Santa Rosa', 'Ina Moran', 'Nunc Road', 'Lebanon K', 'Aaron Hawkins', 'Erie Rhode', 'Hedy Greene', 'Latrobe D', 'Melvin Porter', 'Curabitur Rd', 'Bandera South', 'Keefe Sellers', 'Iaculis St', 'Woodruff S', 'Joan Romero', 'Lacinia Avenue', 'Idaho Falls', 'Davis Patrick', 'Sociosqu Rd', 'Bethlehem Utah', 'Leilani Boyer', 'Lacinia Road', 'San Bernardino', 'Colby Bernard', 'Ullamcorper Avenue', 'Amesbury H', 'Bryar Pitts', 'Aliquet St', 'Fort Dodge', 'Rahim Henderson', 'Diam Rd', 'Daly City', 'Noelle Adams', 'Fringilla Avenue', 'Gardena Colorado', 'Lillith Daniel', 'Centennial Delaware', 'Adria Russell', 'Non Rd', 'Miami Beach', 'North Dakota', 'Hilda Haynes', 'Suspendisse Av', 'Weirton I', 'Sheila Mcintosh', 'Et Rd', 'Santa Monica', 'Rebecca Chambers', 'Sit Ave', 'Liberal Vermont', 'Christian Emerson', 'Arcu St', 'Rolling Hills', 'Nevada Ware', 'Tincidunt Ave', 'Green Bay', 'Margaret Joseph', 'Gravida St', 'Tamuning Washington', 'Edward Nieves', 'Vel Av', 'Idaho Falls', 'Rhode Island', 'Imani Talley', 'Sit St', 'Yigo Massachusetts', 'Bertha Riggs', 'In St', 'Easthampton T', 'Wallace Ross', 'Pellentesque Ave', 'Villa Park', 'Chester Bennett', 'Minot A', 'Castor Richardson', 'Ullamcorper Street', 'Lynchburg D', 'Sonya Jordan', 'Visalia V', 'Harrison Mcguire', 'Arcu Street', 'San Fernando', 'Malcolm Long', 'Proin Road', 'Lake Charles', 'Raymond Levy', 'Risus St', 'Beaumont New', 'Hedley Ingram', 'At Street', 'Independence Texas', 'David Mathews', 'Malesuada Road', 'Moscow Kentucky', 'Xyla Cash', 'Tincidunt Rd', 'Boise C', 'Madeline Gregory', 'Ut Ave', 'Walla Walla', 'Griffith Daniels', 'Eget St', 'Tacoma A', 'Anne Beasley', 'Urna St', 'Savannah Illinois', 'Chaney Bennett', 'Dolor Rd', 'Fremont A', 'Daniel Bernard', 'Duis Rd', 'Pomona T', 'Willow Hunt', 'Lobortis Ave', 'Cudahy Ohio', 'Judith Floyd', 'Feugiat St', 'Williston Nevada', 'Seth Farley', 'Aenean Avenue', 'Seattle Utah', 'Zephania Sanders', 'Nascetur St', 'Hawthorne Louisiana', 'Calista Merritt', 'Posuere Ave', 'Chickasha L', 'Craig Williams', 'Montes Rd', 'Springdale M', 'Lee Preston', 'Eget Rd', 'Clemson G', 'Katelyn Cooper', 'Sollicitudin Road', 'Burlingame Colorado', 'Lacy Eaton', 'Asbury Park', 'Driscoll Leach', 'Odio Avenue', 'Pass Christian', 'Merritt Watson', 'Amet Street', 'Corona Oklahoma', 'Nehru Holmes', 'Sed Road', 'Grand Rapids', 'Quamar Rivera', 'Ac St', 'Schaumburg Arkansas', 'Hiram Mullins', 'Nunc Ave', 'Kennewick A', 'Kim Fletcher', 'Metus Road', 'Independence C', 'Rigel Koch', 'Laughlin Hawaii', 'Jeanette Sharpe', 'Ipsum Avenue', 'Wilmington Ohio', 'Dahlia Lee', 'Tincidunt Street', 'Atwater Pennsylvania', 'Howard Hayden', 'Facilisis Street', 'Joliet S', 'Hyatt Kramer', 'Massa Av', 'Kent I', 'Sonya Ray', 'Eleifend Street', 'Fairbanks R', 'Cara Whitehead', 'Praesent St', 'Torrance Wyoming', 'Blythe Carroll', 'Princeton T', 'Dale Griffin', 'In Ave', 'Revere South', 'Kenzie Hernandez', 'Mi Street', 'Greensboro V', 'Haviva Holcomb', 'In Road', 'Palms New', 'Ezra Duffy', 'Dis Rd', 'Austin K', 'Eleanor Jennings', 'Semper Ave', 'Astoria N', 'Remedios Hester', 'Mollis St', 'Industry Louisiana', 'Jasper Carney', 'Lobortis Rd', 'New Orleans', 'New Hampshire', 'Vielka Nielsen', 'Elementum Rd', 'Fort Smith', 'North Dakota', 'Wilma Pace', 'Odio Rd', 'Darlington C', 'Palmer Gay', 'Purus St', 'Watertown T', 'Lyle Sutton', 'Elementum St', 'South Gate', 'Ina Burt', 'Ut Street', 'Tyler K', 'Cleo Best', 'Tincidunt Ave', 'Sedalia Utah', 'Hu Park', 'Netus Rd', 'Reedsport N', 'Liberty Walton', 'Logan N', 'Aaron Trujillo', 'Cras Rd', 'Kingsport N', 'Elmo Lopez', 'Cum Rd', 'Yorba Linda', 'South Carolina', 'Emerson Espinoza', 'Tincidunt St', 'Corpus Christi', 'Daniel Malone', 'Adipiscing Av', 'Lima R', 'Dante Bennett', 'Nulla Street', 'Dearborn O', 'Sade Higgins', 'Ut St', 'Wilmington O', 'Zorita Anderson', 'Facilisis Avenue', 'Bell Gardens', 'Jordan Calderon', 'Eleifend St', 'Duluth Washington', 'Ivor Delgado', 'Ut Av', 'Santa Barbara', 'Pascale Patton', 'Amet Street', 'West Allis', 'Nasim Strong', 'Watervliet Oklahoma', 'Keaton Underwood', 'Arcu Avenue', 'Thiensville Maryland', 'Keegan Blair', 'Manitowoc T', 'Tamara Howe', 'Rocky Mount']\n"
          ]
        }
      ]
    },
    {
      "cell_type": "code",
      "source": [
        "normal_string = \"C:\\Windows\"\n",
        "print(normal_string)"
      ],
      "metadata": {
        "colab": {
          "base_uri": "https://localhost:8080/"
        },
        "id": "gIjAXBJB-KFY",
        "outputId": "88be01c3-03ae-4391-d5f7-3d1fb3391cc7"
      },
      "execution_count": null,
      "outputs": [
        {
          "output_type": "stream",
          "name": "stdout",
          "text": [
            "C:\\Windows\n"
          ]
        }
      ]
    },
    {
      "cell_type": "code",
      "source": [
        "raw_string = r\"C:\\Windows\"\n",
        "print(raw_string)  # Output: C:\\Windows (including backslash)\n"
      ],
      "metadata": {
        "colab": {
          "base_uri": "https://localhost:8080/"
        },
        "id": "lur9_O1w_lPd",
        "outputId": "8fe54d26-ea8a-485a-c121-e1b6e7348b4a"
      },
      "execution_count": null,
      "outputs": [
        {
          "output_type": "stream",
          "name": "stdout",
          "text": [
            "C:\\Windows\n"
          ]
        }
      ]
    },
    {
      "cell_type": "code",
      "source": [
        "import re\n",
        "\n",
        "# Without raw string:\n",
        "text = \"This is a sample\\ntext with paths like C:\\Windows.\"\n",
        "pattern = r\"C:\\\\Windows\"  # Double backslashes to escape \\ in regex\n",
        "matches = re.findall(pattern, text)\n",
        "print(matches)  # Output: [] (no matches)\n",
        "\n",
        "# With raw string:\n",
        "pattern = r\"C:\\Windows\"  # Single backslash in raw string\n",
        "matches = re.findall(pattern, text)\n",
        "print(matches)  # Output: ['C:\\Windows'] (correct match)\n"
      ],
      "metadata": {
        "colab": {
          "base_uri": "https://localhost:8080/"
        },
        "id": "m4rLbJRb_uFs",
        "outputId": "2291cff3-a4c8-4fae-c4c4-9911a594fdb9"
      },
      "execution_count": null,
      "outputs": [
        {
          "output_type": "stream",
          "name": "stdout",
          "text": [
            "['C:\\\\Windows']\n",
            "[]\n"
          ]
        }
      ]
    },
    {
      "cell_type": "code",
      "source": [
        "lst=[2,3,4,]"
      ],
      "metadata": {
        "id": "-iZQQt9d_5ID"
      },
      "execution_count": null,
      "outputs": []
    },
    {
      "cell_type": "code",
      "source": [
        "for a in lst:\n",
        "  print(a)"
      ],
      "metadata": {
        "colab": {
          "base_uri": "https://localhost:8080/"
        },
        "id": "ed9mycJO42ci",
        "outputId": "3971dc6e-243a-4ded-d55f-46c01fcdfbc0"
      },
      "execution_count": null,
      "outputs": [
        {
          "output_type": "stream",
          "name": "stdout",
          "text": [
            "2\n",
            "3\n",
            "4\n"
          ]
        }
      ]
    },
    {
      "cell_type": "code",
      "source": [
        "lst=[23,67,32,6.7]\n",
        "print(max(lst))"
      ],
      "metadata": {
        "id": "_SjA5_2l45NB",
        "colab": {
          "base_uri": "https://localhost:8080/"
        },
        "outputId": "35bd8e4d-ad74-4eac-f744-e412a6697cc1"
      },
      "execution_count": null,
      "outputs": [
        {
          "output_type": "stream",
          "name": "stdout",
          "text": [
            "67\n"
          ]
        }
      ]
    },
    {
      "cell_type": "code",
      "source": [],
      "metadata": {
        "id": "12jft3HRNcF2"
      },
      "execution_count": null,
      "outputs": []
    }
  ],
  "metadata": {
    "colab": {
      "provenance": []
    },
    "kernelspec": {
      "display_name": "Python 3",
      "name": "python3"
    },
    "language_info": {
      "name": "python"
    }
  },
  "nbformat": 4,
  "nbformat_minor": 0
}